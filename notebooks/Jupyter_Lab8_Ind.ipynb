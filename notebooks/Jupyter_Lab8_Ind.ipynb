{
 "cells": [
  {
   "cell_type": "markdown",
   "metadata": {
    "pycharm": {
     "name": "#%% md\n"
    }
   },
   "source": [
    "# Индивидуальное задание"
   ]
  },
  {
   "cell_type": "markdown",
   "metadata": {
    "pycharm": {
     "name": "#%% md\n"
    }
   },
   "source": [
    "### Продискретизировать изображение, вывести его на экран.  Проквантовать изображение.\n"
   ]
  },
  {
   "cell_type": "markdown",
   "metadata": {
    "pycharm": {
     "name": "#%% md\n"
    }
   },
   "source": [
    "Загрузим и сохраним изображение, затем создадим его копию, над которой будет проводиться дискретизация."
   ]
  },
  {
   "cell_type": "code",
   "execution_count": 1,
   "metadata": {
    "pycharm": {
     "name": "#%%\n"
    }
   },
   "outputs": [],
   "source": [
    "import cv2\n",
    "import numpy as np\n",
    "from matplotlib import pyplot as plt\n",
    "\n",
    "image = cv2.imread('moon.jpg')\n",
    "img = image.copy()"
   ]
  },
  {
   "cell_type": "markdown",
   "metadata": {
    "pycharm": {
     "name": "#%% md\n"
    }
   },
   "source": [
    "Зададим размер шага изображения (количество пикселей в этом изображении будет K*K)"
   ]
  },
  {
   "cell_type": "code",
   "execution_count": 2,
   "metadata": {
    "pycharm": {
     "name": "#%%\n"
    }
   },
   "outputs": [],
   "source": [
    "K = 10"
   ]
  },
  {
   "cell_type": "markdown",
   "metadata": {
    "pycharm": {
     "name": "#%% md\n"
    }
   },
   "source": [
    " Получим размер исходного изображения и его тональность, а также запомним отдельно высоту и ширину исходного изображения"
   ]
  },
  {
   "cell_type": "code",
   "execution_count": 3,
   "metadata": {
    "pycharm": {
     "name": "#%%\n"
    }
   },
   "outputs": [],
   "source": [
    "s = img.shape\n",
    "h1, w1 = s[0], s[1]"
   ]
  },
  {
   "cell_type": "markdown",
   "metadata": {
    "pycharm": {
     "name": "#%% md\n"
    }
   },
   "source": [
    "Делим высоту на шаг с выделением остатка и вычитаем это из начальной высоты, повторяем для высоты.\n",
    "Например: (641 - 641 % 10) = 641 - 1 = 640. Это позволяет за указанное кол-во шагов пройти все изображение точно без остатка"
   ]
  },
  {
   "cell_type": "code",
   "execution_count": 4,
   "metadata": {
    "pycharm": {
     "name": "#%%\n"
    }
   },
   "outputs": [],
   "source": [
    "h = (s[0 - s[0] % K])\n",
    "w = (s[1] - s[1] % K)"
   ]
  },
  {
   "cell_type": "markdown",
   "metadata": {
    "pycharm": {
     "name": "#%% md\n"
    }
   },
   "source": [
    "Пробегаем все изображение по высоте (сверху вниз) с шагом K. В цветном строка len вернет число 3 (так как у цветного параметра -  высота ширина и число каналов rgb), в полутоновом строка вернет число 2 (высота ширина). Функция np.average вычисляет средневзвешанное значение оси (здесь это -средний цвет изображения). Здесь img [y: (y + K), x: (x + K)] - вырезаем фрагмент изображения от текущего значения высоты y до K: (y:(y+K)), то же самое и для ширины x. Повторяем действие вычисления среднего значения цвета от предыдущего значения s (нужно для цветного изображения) и записываем это значение во весь блок изображения img[y:(y + K), x:(x + K)] (красим текущий блок изображения его средним значением).\n",
    "Если же строка возвращает значение меньше 3 (2 − ширина и высота), значит это полутоновое изображение, находим среднее значение цвета блока и красим его в этот цвет (как в предыдущем шаге)"
   ]
  },
  {
   "cell_type": "code",
   "execution_count": 5,
   "metadata": {
    "pycharm": {
     "name": "#%%\n"
    }
   },
   "outputs": [],
   "source": [
    "for y in range(0, h - 1, K):\n",
    "    # Для каждого из пикселей - пробегаем все изображение по ширине (слева направо) с шагом K\n",
    "    for x in range(0, w - 1, K):\n",
    "        #\n",
    "        if len(s) > 2:\n",
    "            #\n",
    "            s = np.average(img[y: (y + K), x: (x + K)], axis=0)\n",
    "            img[y:(y + K), x:(x + K)] = np.average(s, axis=0)\n",
    "            #\n",
    "        #\n",
    "        else:\n",
    "            s = img[y:(y + K), x:(x + K)]\n",
    "            img[y:(y + K), x:(x + K)] = np.average(s)"
   ]
  },
  {
   "cell_type": "markdown",
   "metadata": {
    "pycharm": {
     "name": "#%% md\n"
    }
   },
   "source": [
    "Возвращаем размер изображения к размеру исходного изображения. Объединим исходное и дискретизированное изображение в одно окно для сравнения и выведем это окно на экран."
   ]
  },
  {
   "cell_type": "code",
   "execution_count": 6,
   "metadata": {
    "pycharm": {
     "name": "#%%\n"
    }
   },
   "outputs": [],
   "source": [
    "img = cv2.resize(img, (w1, h1))\n",
    "res = np.hstack((image, img))\n",
    "cv2.imshow(\"Discretization\", res)\n",
    "cv2.waitKey(0)\n",
    "cv2.destroyAllWindows()\n"
   ]
  },
  {
   "cell_type": "markdown",
   "metadata": {
    "pycharm": {
     "name": "#%% md\n"
    }
   },
   "source": [
    "Процесс квантования."
   ]
  },
  {
   "cell_type": "markdown",
   "metadata": {
    "pycharm": {
     "name": "#%% md\n"
    }
   },
   "source": [
    "Изменяем размер массива изображения, где (–1,4) – задаем число строк и столбцов, в которые помещаем прежний массив. В данном случае 4 – означает в 4 столбца, а –1 это исключение, означает что мы даем python самому понять во сколько строк это можно уместить"
   ]
  },
  {
   "cell_type": "code",
   "execution_count": 7,
   "metadata": {
    "pycharm": {
     "name": "#%%\n"
    }
   },
   "outputs": [],
   "source": [
    "Z = img.reshape(-1, 3)"
   ]
  },
  {
   "cell_type": "markdown",
   "metadata": {
    "pycharm": {
     "name": "#%% md\n"
    }
   },
   "source": [
    "Преобразуем массив к float (числа с плавающей точкой)"
   ]
  },
  {
   "cell_type": "code",
   "execution_count": 8,
   "metadata": {
    "pycharm": {
     "name": "#%%\n"
    }
   },
   "outputs": [],
   "source": [
    "Z = np.float32(Z)"
   ]
  },
  {
   "cell_type": "markdown",
   "metadata": {
    "pycharm": {
     "name": "#%% md\n"
    }
   },
   "source": [
    "Критерии для остановки квантования. Здесь останавливаем квантование, если достигли 10 итераций или если достигли точности в 1.0)"
   ]
  },
  {
   "cell_type": "code",
   "execution_count": 9,
   "metadata": {
    "pycharm": {
     "name": "#%%\n"
    }
   },
   "outputs": [],
   "source": [
    "crt = (cv2.TERM_CRITERIA_EPS + cv2.TERM_CRITERIA_MAX_ITER, 10, 1.0)"
   ]
  },
  {
   "cell_type": "markdown",
   "metadata": {
    "pycharm": {
     "name": "#%% md\n"
    }
   },
   "source": [
    "Функция квантования"
   ]
  },
  {
   "cell_type": "code",
   "execution_count": 10,
   "metadata": {
    "pycharm": {
     "name": "#%%\n"
    }
   },
   "outputs": [],
   "source": [
    "ret, label, center = cv2.kmeans(Z, K, None, crt, 10, cv2.KMEANS_RANDOM_CENTERS)"
   ]
  },
  {
   "cell_type": "markdown",
   "metadata": {
    "pycharm": {
     "name": "#%% md\n"
    }
   },
   "source": [
    "Преобразование матрицы к формату uint8 (от 0 до 255), Сворачиваем массив нескольких матриц в одну, выводим изображение."
   ]
  },
  {
   "cell_type": "code",
   "execution_count": null,
   "metadata": {
    "pycharm": {
     "name": "#%%\n"
    }
   },
   "outputs": [],
   "source": [
    "center = np.uint8(center)\n",
    "res = center[label.flatten()]\n",
    "res2 = res.reshape(img.shape)\n",
    "cv2.imshow(\"Quantization\", res2)\n",
    "cv2.waitKey(0)\n",
    "cv2.destroyAllWindows()"
   ]
  }
 ],
 "metadata": {
  "kernelspec": {
   "display_name": "Python 3 (ipykernel)",
   "language": "python",
   "name": "python3"
  },
  "language_info": {
   "codemirror_mode": {
    "name": "ipython",
    "version": 3
   },
   "file_extension": ".py",
   "mimetype": "text/x-python",
   "name": "python",
   "nbconvert_exporter": "python",
   "pygments_lexer": "ipython3",
   "version": "3.9.13"
  }
 },
 "nbformat": 4,
 "nbformat_minor": 1
}